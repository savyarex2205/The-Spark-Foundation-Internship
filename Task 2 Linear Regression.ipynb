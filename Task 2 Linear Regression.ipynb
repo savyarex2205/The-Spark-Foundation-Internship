{
 "cells": [
  {
   "cell_type": "markdown",
   "metadata": {},
   "source": [
    "# Task 2 (Supervised Learning - Linear Regression)\n"
   ]
  },
  {
   "cell_type": "markdown",
   "metadata": {},
   "source": [
    "In this Task, we have to Predict the percentage of Scores that a student can achieve after studying for a certain hours. This Task is performed on Simple Linear Regression, where we have Two variables(Score, Hours). And In the end, we have to predict the scores if a student studies for 9.25 hours"
   ]
  },
  {
   "cell_type": "markdown",
   "metadata": {},
   "source": [
    "# Importing Libraries"
   ]
  },
  {
   "cell_type": "markdown",
   "metadata": {},
   "source": [
    "We will import all the libraby that are needed till Data Visualization"
   ]
  },
  {
   "cell_type": "code",
   "execution_count": 51,
   "metadata": {},
   "outputs": [],
   "source": [
    "import pandas as pd\n",
    "import numpy as np\n",
    "import matplotlib.pyplot as ppy\n",
    "%matplotlib inline\n",
    "import seaborn as ses"
   ]
  },
  {
   "cell_type": "markdown",
   "metadata": {},
   "source": [
    "We used the %matplotlib inline to show the user only the relivent part of the graph"
   ]
  },
  {
   "cell_type": "markdown",
   "metadata": {},
   "source": [
    "# Loading the Data"
   ]
  },
  {
   "cell_type": "markdown",
   "metadata": {},
   "source": [
    "Loading the Dataset into Jupyter Notebook via the link provided to us into the CSV format(i.e., Comma Seperated Value file)"
   ]
  },
  {
   "cell_type": "code",
   "execution_count": 48,
   "metadata": {},
   "outputs": [
    {
     "data": {
      "text/html": [
       "<div>\n",
       "<style scoped>\n",
       "    .dataframe tbody tr th:only-of-type {\n",
       "        vertical-align: middle;\n",
       "    }\n",
       "\n",
       "    .dataframe tbody tr th {\n",
       "        vertical-align: top;\n",
       "    }\n",
       "\n",
       "    .dataframe thead th {\n",
       "        text-align: right;\n",
       "    }\n",
       "</style>\n",
       "<table border=\"1\" class=\"dataframe\">\n",
       "  <thead>\n",
       "    <tr style=\"text-align: right;\">\n",
       "      <th></th>\n",
       "      <th>Hours</th>\n",
       "      <th>Scores</th>\n",
       "    </tr>\n",
       "  </thead>\n",
       "  <tbody>\n",
       "    <tr>\n",
       "      <th>0</th>\n",
       "      <td>2.5</td>\n",
       "      <td>21</td>\n",
       "    </tr>\n",
       "    <tr>\n",
       "      <th>1</th>\n",
       "      <td>5.1</td>\n",
       "      <td>47</td>\n",
       "    </tr>\n",
       "    <tr>\n",
       "      <th>2</th>\n",
       "      <td>3.2</td>\n",
       "      <td>27</td>\n",
       "    </tr>\n",
       "    <tr>\n",
       "      <th>3</th>\n",
       "      <td>8.5</td>\n",
       "      <td>75</td>\n",
       "    </tr>\n",
       "    <tr>\n",
       "      <th>4</th>\n",
       "      <td>3.5</td>\n",
       "      <td>30</td>\n",
       "    </tr>\n",
       "    <tr>\n",
       "      <th>5</th>\n",
       "      <td>1.5</td>\n",
       "      <td>20</td>\n",
       "    </tr>\n",
       "    <tr>\n",
       "      <th>6</th>\n",
       "      <td>9.2</td>\n",
       "      <td>88</td>\n",
       "    </tr>\n",
       "    <tr>\n",
       "      <th>7</th>\n",
       "      <td>5.5</td>\n",
       "      <td>60</td>\n",
       "    </tr>\n",
       "    <tr>\n",
       "      <th>8</th>\n",
       "      <td>8.3</td>\n",
       "      <td>81</td>\n",
       "    </tr>\n",
       "    <tr>\n",
       "      <th>9</th>\n",
       "      <td>2.7</td>\n",
       "      <td>25</td>\n",
       "    </tr>\n",
       "  </tbody>\n",
       "</table>\n",
       "</div>"
      ],
      "text/plain": [
       "   Hours  Scores\n",
       "0    2.5      21\n",
       "1    5.1      47\n",
       "2    3.2      27\n",
       "3    8.5      75\n",
       "4    3.5      30\n",
       "5    1.5      20\n",
       "6    9.2      88\n",
       "7    5.5      60\n",
       "8    8.3      81\n",
       "9    2.7      25"
      ]
     },
     "execution_count": 48,
     "metadata": {},
     "output_type": "execute_result"
    }
   ],
   "source": [
    "url = 'http://bit.ly/w-data'\n",
    "\n",
    "# Loading data into CSV fomrat\n",
    "student = pd.read_csv('Student_marks_per_hour.csv')\n",
    "student.head(10)"
   ]
  },
  {
   "cell_type": "markdown",
   "metadata": {},
   "source": [
    "# Data Exploration"
   ]
  },
  {
   "cell_type": "markdown",
   "metadata": {},
   "source": [
    "Here we will explore the data set. Exploring the data set will be consisting of Checking the size of file, Head, Tail and other details"
   ]
  },
  {
   "cell_type": "code",
   "execution_count": 47,
   "metadata": {},
   "outputs": [
    {
     "name": "stdout",
     "output_type": "stream",
     "text": [
      "The Shape of Table is in (ROW,COLUMNS) format (25, 2)\n",
      "-----------------------------------------\n",
      "\n",
      "   Hours  Scores\n",
      "0    2.5      21\n",
      "1    5.1      47\n",
      "2    3.2      27\n",
      "3    8.5      75\n",
      "4    3.5      30\n",
      "-----------------------------------------\n",
      "    Hours  Scores\n",
      "20    2.7      30\n",
      "21    4.8      54\n",
      "22    3.8      35\n",
      "23    6.9      76\n",
      "24    7.8      86\n"
     ]
    }
   ],
   "source": [
    "print(\"The Shape of Table is in (ROW,COLUMNS) format\",student.shape)\n",
    "print(\"-----------------------------------------\\n\")\n",
    "print(student.head())\n",
    "print(\"-----------------------------------------\")\n",
    "print(student.tail())"
   ]
  },
  {
   "cell_type": "markdown",
   "metadata": {},
   "source": [
    "# Checking for Null Values"
   ]
  },
  {
   "cell_type": "markdown",
   "metadata": {},
   "source": [
    "Checking for NULL Values is important as the null values can change the prediction very significantly"
   ]
  },
  {
   "cell_type": "code",
   "execution_count": 49,
   "metadata": {},
   "outputs": [
    {
     "name": "stdout",
     "output_type": "stream",
     "text": [
      "Hours     0\n",
      "Scores    0\n",
      "dtype: int64\n"
     ]
    }
   ],
   "source": [
    "print(student.isnull().sum())"
   ]
  },
  {
   "cell_type": "markdown",
   "metadata": {},
   "source": [
    "As displayed, there is no NULL value in the Dataset. So, now we can move ahead"
   ]
  },
  {
   "cell_type": "markdown",
   "metadata": {},
   "source": [
    "# Plotting of Data \n",
    "We Plot the Data to see the relation between different Data variable \n"
   ]
  },
  {
   "cell_type": "code",
   "execution_count": 53,
   "metadata": {},
   "outputs": [
    {
     "data": {
      "text/plain": [
       "<function matplotlib.pyplot.show(*args, **kw)>"
      ]
     },
     "execution_count": 53,
     "metadata": {},
     "output_type": "execute_result"
    },
    {
     "data": {
      "image/png": "[encoded data removed]",
      "text/plain": [
       "<Figure size 432x288 with 1 Axes>"
      ]
     },
     "metadata": {
      "needs_background": "light"
     },
     "output_type": "display_data"
    }
   ],
   "source": [
    "ppy.scatter(student['Hours'],student['Scores'],color = 'blue')\n",
    "ppy.grid(color = 'red', linestyle = '-.')\n",
    "ppy.xlabel('Hours')\n",
    "ppy.ylabel('Scores')\n",
    "ppy.show"
   ]
  },
  {
   "cell_type": "markdown",
   "metadata": {},
   "source": [
    "# HeatMap Plot of the Data\n",
    "After Seeing the Linear Relation between data-variables, we have to check the correlation between these variables"
   ]
  },
  {
   "cell_type": "code",
   "execution_count": 4,
   "metadata": {},
   "outputs": [
    {
     "data": {
      "text/html": [
       "<div>\n",
       "<style scoped>\n",
       "    .dataframe tbody tr th:only-of-type {\n",
       "        vertical-align: middle;\n",
       "    }\n",
       "\n",
       "    .dataframe tbody tr th {\n",
       "        vertical-align: top;\n",
       "    }\n",
       "\n",
       "    .dataframe thead th {\n",
       "        text-align: right;\n",
       "    }\n",
       "</style>\n",
       "<table border=\"1\" class=\"dataframe\">\n",
       "  <thead>\n",
       "    <tr style=\"text-align: right;\">\n",
       "      <th></th>\n",
       "      <th>Hours</th>\n",
       "      <th>Scores</th>\n",
       "    </tr>\n",
       "  </thead>\n",
       "  <tbody>\n",
       "    <tr>\n",
       "      <th>Hours</th>\n",
       "      <td>1.000000</td>\n",
       "      <td>0.976191</td>\n",
       "    </tr>\n",
       "    <tr>\n",
       "      <th>Scores</th>\n",
       "      <td>0.976191</td>\n",
       "      <td>1.000000</td>\n",
       "    </tr>\n",
       "  </tbody>\n",
       "</table>\n",
       "</div>"
      ],
      "text/plain": [
       "           Hours    Scores\n",
       "Hours   1.000000  0.976191\n",
       "Scores  0.976191  1.000000"
      ]
     },
     "execution_count": 4,
     "metadata": {},
     "output_type": "execute_result"
    }
   ],
   "source": [
    "# Checking the Co-relation between the attribute\n",
    "Corel = student.corr()\n",
    "Corel"
   ]
  },
  {
   "cell_type": "code",
   "execution_count": 52,
   "metadata": {},
   "outputs": [
    {
     "data": {
      "text/plain": [
       "<matplotlib.axes._subplots.AxesSubplot at 0xb9d1348>"
      ]
     },
     "execution_count": 52,
     "metadata": {},
     "output_type": "execute_result"
    },
    {
     "data": {
      "image/png": "[encoded data removed]",
      "text/plain": [
       "<Figure size 432x288 with 2 Axes>"
      ]
     },
     "metadata": {
      "needs_background": "light"
     },
     "output_type": "display_data"
    }
   ],
   "source": [
    "# Plotting the Heatmap\n",
    "ses.heatmap(Corel)\n"
   ]
  },
  {
   "cell_type": "markdown",
   "metadata": {},
   "source": [
    "# Splitting the Data\n",
    "We will be Splitting our ready-handed data into Train Data and Test Data for checking of the prediction that are made by the algorithm. We will be using train_test_split() function to split the Data"
   ]
  },
  {
   "cell_type": "code",
   "execution_count": 6,
   "metadata": {},
   "outputs": [],
   "source": [
    "# Spliting the Dataset for training the model\n",
    "from sklearn.model_selection import train_test_split\n",
    "\n",
    "X = student.loc[:,'Hours'].values\n",
    "X = X.reshape(-1,1)\n",
    "\n",
    "Y = student.loc[:,'Scores'].values\n",
    "Y = Y.reshape(-1,1)\n",
    "\n",
    "Train_X,Test_X,Train_Y,Test_Y = train_test_split(X,Y,test_size = 0.1)"
   ]
  },
  {
   "cell_type": "markdown",
   "metadata": {},
   "source": [
    "# Training of the Linear Model\n",
    "Here our Train splitted data will help the Linear model to train which will help us to predict well"
   ]
  },
  {
   "cell_type": "code",
   "execution_count": 7,
   "metadata": {},
   "outputs": [
    {
     "name": "stdout",
     "output_type": "stream",
     "text": [
      "The model training is COMPLETED\n"
     ]
    }
   ],
   "source": [
    "# Importing the Model and Training it as well\n",
    "from sklearn.linear_model import LinearRegression\n",
    "\n",
    "marks = LinearRegression()\n",
    "\n",
    "marks.fit(Train_X,Train_Y)\n",
    "\n",
    "print('The model training is COMPLETED')"
   ]
  },
  {
   "cell_type": "code",
   "execution_count": 8,
   "metadata": {},
   "outputs": [
    {
     "name": "stdout",
     "output_type": "stream",
     "text": [
      "Coeffiecients: [[9.68645092]]\n",
      "Intercept:  [2.71820867]\n"
     ]
    }
   ],
   "source": [
    "# Coeffiecients\n",
    "print('Coeffiecients:',marks.coef_)\n",
    "\n",
    "# Intercept\n",
    "print('Intercept: ',marks.intercept_)"
   ]
  },
  {
   "cell_type": "markdown",
   "metadata": {},
   "source": [
    "# Plotting the Linearn Regression Line\n",
    "Linearn Regression helps us to given a best fitting line to our data on the basis of which we do our predictions.\n",
    "Using malplotlib's plot() function to make a Line graph in our pre-existing Plot above, we see how well the Prediction may be."
   ]
  },
  {
   "cell_type": "code",
   "execution_count": 9,
   "metadata": {},
   "outputs": [
    {
     "data": {
      "image/png": "[encoded data removed]",
      "text/plain": [
       "<Figure size 432x288 with 1 Axes>"
      ]
     },
     "metadata": {
      "needs_background": "light"
     },
     "output_type": "display_data"
    }
   ],
   "source": [
    "# Plotting for the test data\n",
    "ppy.scatter(X, Y)\n",
    "# Here mx+c = reg.coef_*X+reg.intercept\n",
    "ppy.plot(X, marks.coef_*X+marks.intercept_,color='r')\n",
    "ppy.xlabel('Hours')\n",
    "ppy.ylabel('Scores')\n",
    "ppy.title('Hours Studied vs. Marks Scored')\n",
    "ppy.grid(True)\n",
    "ppy.show()"
   ]
  },
  {
   "cell_type": "markdown",
   "metadata": {},
   "source": [
    "# Testing the MODEL\n",
    "After all the fitting is done, It's time for the testing of Model to check how well it gives the predictions./"
   ]
  },
  {
   "cell_type": "code",
   "execution_count": 10,
   "metadata": {},
   "outputs": [
    {
     "name": "stdout",
     "output_type": "stream",
     "text": [
      "Test_X\n",
      "[[6.9]\n",
      " [5.5]\n",
      " [5.1]]\n",
      "-----------------------------------------\n",
      "Test_Y\n",
      "[76]\n",
      "[60]\n",
      "[47]\n",
      "-----------------------------------------\n",
      "Pred_Y\n",
      "[69.55472002]\n",
      "[55.99368873]\n",
      "[52.11910837]\n"
     ]
    }
   ],
   "source": [
    "# Printing the x_test values\n",
    "print('Test_X')\n",
    "print(Test_X)\n",
    "print(\"-----------------------------------------\")\n",
    "# Printing the predicted y_pred\n",
    "Pred_Y = marks.predict(Test_X)\n",
    "print('Test_Y')\n",
    "for i in Test_Y:\n",
    "    print(i)\n",
    "print(\"-----------------------------------------\")\n",
    "print('Pred_Y')\n",
    "for i in Pred_Y:\n",
    "    print(i)\n"
   ]
  },
  {
   "cell_type": "markdown",
   "metadata": {},
   "source": [
    "# Accuracy of our model\n",
    "\n",
    "Here we will check the accuracy of our linear model by using score() function as follows"
   ]
  },
  {
   "cell_type": "code",
   "execution_count": 11,
   "metadata": {},
   "outputs": [
    {
     "data": {
      "text/plain": [
       "0.8014278805108326"
      ]
     },
     "execution_count": 11,
     "metadata": {},
     "output_type": "execute_result"
    }
   ],
   "source": [
    "marks.score(Test_X,Test_Y)"
   ]
  },
  {
   "cell_type": "markdown",
   "metadata": {},
   "source": [
    "# Mean squared error\n",
    "\n",
    "Here we will find the mean squared error of our model by using mean_absolute_error(). We calculate Mean_Absolute_Error by Subtracting The Actual value by the Predicted one and then sqaure the result for keeping negative values, psoitive one\n"
   ]
  },
  {
   "cell_type": "code",
   "execution_count": 12,
   "metadata": {},
   "outputs": [
    {
     "name": "stdout",
     "output_type": "stream",
     "text": [
      "Mean Absolute Error: 5.190233203527143\n"
     ]
    }
   ],
   "source": [
    "from sklearn import metrics  \n",
    "print('Mean Absolute Error:',metrics.mean_absolute_error(Test_Y, Pred_Y))"
   ]
  },
  {
   "cell_type": "markdown",
   "metadata": {},
   "source": [
    "# Predicting the score of student studying for 9.25 hours."
   ]
  },
  {
   "cell_type": "code",
   "execution_count": 41,
   "metadata": {},
   "outputs": [
    {
     "name": "stdout",
     "output_type": "stream",
     "text": [
      "The student studying for ['9.25'] hours will score [[92.31787968]]\n"
     ]
    }
   ],
   "source": [
    "hour_input = {'Prediction':'9.25'}\n",
    "hours = pd.DataFrame([hour_input])\n",
    "\n",
    "# Predicting the marks scored using the linear model.\n",
    "score = hours.iloc[:,0].values\n",
    "score = score.reshape(-1,1)\n",
    "\n",
    "prediction = marks.predict(score)\n",
    "\n",
    "\n",
    "print('The student studying for',hours['Prediction'].values,'hours will score',prediction)\n",
    "\n"
   ]
  }
 ],
 "metadata": {
  "kernelspec": {
   "display_name": "Python 3",
   "language": "python",
   "name": "python3"
  },
  "language_info": {
   "codemirror_mode": {
    "name": "ipython",
    "version": 3
   },
   "file_extension": ".py",
   "mimetype": "text/x-python",
   "name": "python",
   "nbconvert_exporter": "python",
   "pygments_lexer": "ipython3",
   "version": "3.7.6"
  }
 },
 "nbformat": 4,
 "nbformat_minor": 4
}
